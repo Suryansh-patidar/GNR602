{
 "cells": [
  {
   "cell_type": "code",
   "execution_count": 1,
   "id": "37963c84-7172-4744-ad49-376e5bbb28eb",
   "metadata": {},
   "outputs": [],
   "source": [
    "import cv2\n",
    "import os\n",
    "\n",
    "# Global variables to store starting and ending (x, y) coordinates of the ROI\n",
    "start_x, start_y, end_x, end_y = 0, 0, 0, 0\n",
    "cropping = False\n",
    "\n",
    "def mouse_event(event, x, y, flags, param):\n",
    "    global start_x, start_y, end_x, end_y, cropping\n",
    "\n",
    "    if event == cv2.EVENT_LBUTTONDOWN:\n",
    "        start_x, start_y, end_x, end_y = x, y, x, y\n",
    "        cropping = True\n",
    "\n",
    "    elif event == cv2.EVENT_MOUSEMOVE:\n",
    "        if cropping:\n",
    "            end_x, end_y = x, y\n",
    "\n",
    "    elif event == cv2.EVENT_LBUTTONUP:\n",
    "        end_x, end_y = x, y\n",
    "        cropping = False\n",
    "        # Ensure end_x and end_y are greater than start_x and start_y\n",
    "        start_x, end_x = min(start_x, end_x), max(start_x, end_x)\n",
    "        start_y, end_y = min(start_y, end_y), max(start_y, end_y)\n",
    "        # Crop the selected region\n",
    "        cropped_image = image[start_y:end_y, start_x:end_x]\n",
    "        cv2.imshow(\"Cropped Image\", cropped_image)\n",
    "        cv2.waitKey(0)\n",
    "        # Save the cropped image with the name \"crop.jpg\" in the same folder\n",
    "        cv2.imwrite(\"crop.jpg\", cropped_image)\n",
    "\n",
    "# Read the image\n",
    "image = cv2.imread(\"building_testing_2.jpg\")\n",
    "clone = image.copy()\n",
    "\n",
    "# Create a window and attach the mouse callback function\n",
    "cv2.namedWindow(\"Input Image\")\n",
    "cv2.setMouseCallback(\"Input Image\", mouse_event)\n",
    "\n",
    "while True:\n",
    "    cv2.imshow(\"Input Image\", image)\n",
    "    key = cv2.waitKey(1) & 0xFF\n",
    "\n",
    "    # If the 'c' key is pressed, break from the loop\n",
    "    if key == ord(\"c\"):\n",
    "        break\n",
    "\n",
    "# Close all windows\n",
    "cv2.destroyAllWindows()"
   ]
  },
  {
   "cell_type": "code",
   "execution_count": null,
   "id": "be8e019e-79e8-484c-89ad-0e1c857cd7c1",
   "metadata": {},
   "outputs": [],
   "source": []
  }
 ],
 "metadata": {
  "kernelspec": {
   "display_name": "Python 3 (ipykernel)",
   "language": "python",
   "name": "python3"
  },
  "language_info": {
   "codemirror_mode": {
    "name": "ipython",
    "version": 3
   },
   "file_extension": ".py",
   "mimetype": "text/x-python",
   "name": "python",
   "nbconvert_exporter": "python",
   "pygments_lexer": "ipython3",
   "version": "3.11.3"
  }
 },
 "nbformat": 4,
 "nbformat_minor": 5
}
